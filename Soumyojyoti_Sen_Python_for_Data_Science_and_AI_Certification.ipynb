{
  "nbformat": 4,
  "nbformat_minor": 0,
  "metadata": {
    "colab": {
      "provenance": [],
      "include_colab_link": true
    },
    "kernelspec": {
      "name": "python3",
      "display_name": "Python 3"
    },
    "language_info": {
      "name": "python"
    }
  },
  "cells": [
    {
      "cell_type": "markdown",
      "metadata": {
        "id": "view-in-github",
        "colab_type": "text"
      },
      "source": [
        "<a href=\"https://colab.research.google.com/github/Soumyoj/ML-AI-Python/blob/main/Soumyojyoti_Sen_Python_for_Data_Science_and_AI_Certification.ipynb\" target=\"_parent\"><img src=\"https://colab.research.google.com/assets/colab-badge.svg\" alt=\"Open In Colab\"/></a>"
      ]
    },
    {
      "cell_type": "code",
      "metadata": {
        "id": "uhTIWxThm6Et",
        "colab": {
          "base_uri": "https://localhost:8080/"
        },
        "outputId": "ea9b7426-624d-42ed-c5d1-5d05762c4b9e"
      },
      "source": [
        "x =2\n",
        "x = x+2\n",
        "x"
      ],
      "execution_count": null,
      "outputs": [
        {
          "output_type": "execute_result",
          "data": {
            "text/plain": [
              "4"
            ]
          },
          "metadata": {},
          "execution_count": 1
        }
      ]
    },
    {
      "cell_type": "code",
      "metadata": {
        "id": "cFgB7cbAnEWs",
        "colab": {
          "base_uri": "https://localhost:8080/"
        },
        "outputId": "e64ad4cc-739b-4748-8a1c-9809f2a4ba81"
      },
      "source": [
        "int(False)"
      ],
      "execution_count": null,
      "outputs": [
        {
          "output_type": "execute_result",
          "data": {
            "text/plain": [
              "0"
            ]
          },
          "metadata": {},
          "execution_count": 2
        }
      ]
    },
    {
      "cell_type": "code",
      "metadata": {
        "id": "nplokufinGto",
        "colab": {
          "base_uri": "https://localhost:8080/",
          "height": 37
        },
        "outputId": "c0b212e7-2267-4c26-9e3e-eff47c7e1e12"
      },
      "source": [
        "'1'+'2'"
      ],
      "execution_count": null,
      "outputs": [
        {
          "output_type": "execute_result",
          "data": {
            "text/plain": [
              "'12'"
            ],
            "application/vnd.google.colaboratory.intrinsic+json": {
              "type": "string"
            }
          },
          "metadata": {},
          "execution_count": 3
        }
      ]
    },
    {
      "cell_type": "code",
      "metadata": {
        "id": "vxyKOWQJnLVm",
        "colab": {
          "base_uri": "https://localhost:8080/",
          "height": 37
        },
        "outputId": "68579bfd-119b-41b9-8ac8-bd9c1cc98728"
      },
      "source": [
        " str(1)+str(1)"
      ],
      "execution_count": null,
      "outputs": [
        {
          "output_type": "execute_result",
          "data": {
            "text/plain": [
              "'11'"
            ],
            "application/vnd.google.colaboratory.intrinsic+json": {
              "type": "string"
            }
          },
          "metadata": {},
          "execution_count": 4
        }
      ]
    },
    {
      "cell_type": "code",
      "metadata": {
        "id": "eZ9Esz1anNm8",
        "colab": {
          "base_uri": "https://localhost:8080/",
          "height": 37
        },
        "outputId": "0913e59a-cb72-4c2c-d19e-9549da3d11f7"
      },
      "source": [
        "\"ABC\".replace(\"AB\", \"ab\")"
      ],
      "execution_count": null,
      "outputs": [
        {
          "output_type": "execute_result",
          "data": {
            "text/plain": [
              "'abC'"
            ],
            "application/vnd.google.colaboratory.intrinsic+json": {
              "type": "string"
            }
          },
          "metadata": {},
          "execution_count": 5
        }
      ]
    },
    {
      "cell_type": "code",
      "metadata": {
        "id": "luE6Lp-enqtP",
        "colab": {
          "base_uri": "https://localhost:8080/",
          "height": 37
        },
        "outputId": "fa70ac29-d6bb-4c76-df44-e73ada1bfcf8"
      },
      "source": [
        "\"123\".replace(\"12\", \"ab\")"
      ],
      "execution_count": null,
      "outputs": [
        {
          "output_type": "execute_result",
          "data": {
            "text/plain": [
              "'ab3'"
            ],
            "application/vnd.google.colaboratory.intrinsic+json": {
              "type": "string"
            }
          },
          "metadata": {},
          "execution_count": 6
        }
      ]
    },
    {
      "cell_type": "code",
      "metadata": {
        "id": "TwrEKDfinR3e",
        "colab": {
          "base_uri": "https://localhost:8080/"
        },
        "outputId": "b251200f-4b12-43cd-e9e2-0a7b5eec7ed6"
      },
      "source": [
        " x=2/2\n",
        " x"
      ],
      "execution_count": null,
      "outputs": [
        {
          "output_type": "execute_result",
          "data": {
            "text/plain": [
              "1.0"
            ]
          },
          "metadata": {},
          "execution_count": 7
        }
      ]
    },
    {
      "cell_type": "code",
      "metadata": {
        "id": "r9qWEen2n4Cf",
        "colab": {
          "base_uri": "https://localhost:8080/"
        },
        "outputId": "491de7f9-1965-4ef9-9d18-cb7c6d58b5a3"
      },
      "source": [
        " A=((1),[2,3],[4])\n",
        " A[2]"
      ],
      "execution_count": null,
      "outputs": [
        {
          "output_type": "execute_result",
          "data": {
            "text/plain": [
              "[4]"
            ]
          },
          "metadata": {},
          "execution_count": 11
        }
      ]
    },
    {
      "cell_type": "code",
      "metadata": {
        "id": "jw9dphUEn8hN",
        "colab": {
          "base_uri": "https://localhost:8080/"
        },
        "outputId": "a82ecab3-45a3-4187-97f8-997d8b64afa7"
      },
      "source": [
        " A=((11,12),[21,22])\n",
        " A[0][1]"
      ],
      "execution_count": null,
      "outputs": [
        {
          "output_type": "execute_result",
          "data": {
            "text/plain": [
              "12"
            ]
          },
          "metadata": {},
          "execution_count": 12
        }
      ]
    },
    {
      "cell_type": "code",
      "metadata": {
        "id": "P-510yNSoCae"
      },
      "source": [
        "A=[\"hard rock\",10,1.2]\n",
        "del(A[0])"
      ],
      "execution_count": null,
      "outputs": []
    },
    {
      "cell_type": "code",
      "metadata": {
        "id": "j12j7Jd8oGRj",
        "colab": {
          "base_uri": "https://localhost:8080/"
        },
        "outputId": "563ca516-1af0-47d2-ea6c-686fa378abd9"
      },
      "source": [
        "A"
      ],
      "execution_count": null,
      "outputs": [
        {
          "output_type": "execute_result",
          "data": {
            "text/plain": [
              "[10, 1.2]"
            ]
          },
          "metadata": {},
          "execution_count": 14
        }
      ]
    },
    {
      "cell_type": "code",
      "metadata": {
        "id": "Y0wntT8joKkB",
        "colab": {
          "base_uri": "https://localhost:8080/"
        },
        "outputId": "5843ece1-c607-403b-c078-d2557eac0cf1"
      },
      "source": [
        "B=A[:]\n",
        "B"
      ],
      "execution_count": null,
      "outputs": [
        {
          "output_type": "execute_result",
          "data": {
            "text/plain": [
              "[10, 1.2]"
            ]
          },
          "metadata": {},
          "execution_count": 15
        }
      ]
    },
    {
      "cell_type": "code",
      "metadata": {
        "id": "ZcqH97y0oQpq",
        "colab": {
          "base_uri": "https://localhost:8080/"
        },
        "outputId": "99111d82-ca9c-4589-8f8a-4cf63c134757"
      },
      "source": [
        "len((\"disco\",10))"
      ],
      "execution_count": null,
      "outputs": [
        {
          "output_type": "execute_result",
          "data": {
            "text/plain": [
              "2"
            ]
          },
          "metadata": {},
          "execution_count": 16
        }
      ]
    },
    {
      "cell_type": "code",
      "metadata": {
        "id": "0EGHZ7x7oVXF",
        "colab": {
          "base_uri": "https://localhost:8080/"
        },
        "outputId": "6432ee52-6ff0-428d-ba32-82dfdd08ae9f"
      },
      "source": [
        "{\"The Bodyguard\":\"1992\", \"Saturday Night Fever\":\"1977\"}"
      ],
      "execution_count": null,
      "outputs": [
        {
          "output_type": "execute_result",
          "data": {
            "text/plain": [
              "{'Saturday Night Fever': '1977', 'The Bodyguard': '1992'}"
            ]
          },
          "metadata": {},
          "execution_count": 17
        }
      ]
    },
    {
      "cell_type": "code",
      "metadata": {
        "id": "urJBdYgHok1y",
        "colab": {
          "base_uri": "https://localhost:8080/"
        },
        "outputId": "c179807e-c21a-4960-caf1-2ab2788c339c"
      },
      "source": [
        "V={'A','B'}\n",
        "V.add('C')\n",
        "V"
      ],
      "execution_count": null,
      "outputs": [
        {
          "output_type": "execute_result",
          "data": {
            "text/plain": [
              "{'A', 'B', 'C'}"
            ]
          },
          "metadata": {},
          "execution_count": 18
        }
      ]
    },
    {
      "cell_type": "code",
      "metadata": {
        "id": "FgobwHfhoqNO",
        "colab": {
          "base_uri": "https://localhost:8080/"
        },
        "outputId": "04d5df10-eb6c-471c-9413-8e4bd78c4b77"
      },
      "source": [
        "'A' in {'A','B'}"
      ],
      "execution_count": null,
      "outputs": [
        {
          "output_type": "execute_result",
          "data": {
            "text/plain": [
              "True"
            ]
          },
          "metadata": {},
          "execution_count": 19
        }
      ]
    },
    {
      "cell_type": "code",
      "metadata": {
        "id": "DoE66vwBo3zU",
        "colab": {
          "base_uri": "https://localhost:8080/"
        },
        "outputId": "a00d8d25-2a40-4433-8f0f-6013567edcbe"
      },
      "source": [
        "x=\"Go\"\n",
        "\n",
        "if(x==\"Go\"):\n",
        "\n",
        "  print('Go ')\n",
        "\n",
        "else:\n",
        "\n",
        "  print('Stop')\n",
        "\n",
        "print('Mike')"
      ],
      "execution_count": null,
      "outputs": [
        {
          "output_type": "stream",
          "name": "stdout",
          "text": [
            "Go \n",
            "Mike\n"
          ]
        }
      ]
    },
    {
      "cell_type": "code",
      "metadata": {
        "id": "lps1j2fbo7ki",
        "colab": {
          "base_uri": "https://localhost:8080/"
        },
        "outputId": "a4b0f7b1-4b25-45e8-fa02-2b3e2b3dbd6f"
      },
      "source": [
        "x=1\n",
        "x>-5"
      ],
      "execution_count": null,
      "outputs": [
        {
          "output_type": "execute_result",
          "data": {
            "text/plain": [
              "True"
            ]
          },
          "metadata": {},
          "execution_count": 21
        }
      ]
    },
    {
      "cell_type": "code",
      "metadata": {
        "id": "px10Bcrio_Gi",
        "colab": {
          "base_uri": "https://localhost:8080/"
        },
        "outputId": "6809593c-6174-4ad2-e3d0-ad2da30fcd4d"
      },
      "source": [
        "x=5\n",
        "while(x!=2):\n",
        "  print(x)\n",
        "  x=x-1"
      ],
      "execution_count": null,
      "outputs": [
        {
          "output_type": "stream",
          "name": "stdout",
          "text": [
            "5\n",
            "4\n",
            "3\n"
          ]
        }
      ]
    },
    {
      "cell_type": "code",
      "metadata": {
        "id": "U4-To0japCa6",
        "colab": {
          "base_uri": "https://localhost:8080/"
        },
        "outputId": "45296f4f-6a4f-4e52-a11a-00ed4c3b11b7"
      },
      "source": [
        "class Points(object):\n",
        "  def __init__(self,x,y):\n",
        "\n",
        "    self.x=x\n",
        "    self.y=y\n",
        "\n",
        "  def print_point(self):\n",
        "\n",
        "    print('x=',self.x,' y=',self.y)\n",
        "\n",
        "p1=Points(\"A\",\"B\")\n",
        "p1.print_point()"
      ],
      "execution_count": null,
      "outputs": [
        {
          "output_type": "stream",
          "name": "stdout",
          "text": [
            "x= A  y= B\n"
          ]
        }
      ]
    },
    {
      "cell_type": "code",
      "metadata": {
        "id": "YECXo0NBpGCV",
        "colab": {
          "base_uri": "https://localhost:8080/"
        },
        "outputId": "d3d0a743-c7a6-46e9-e32a-084acc4aba78"
      },
      "source": [
        "for i,x in enumerate(['A','B','C']):\n",
        "    print(i,2*x)"
      ],
      "execution_count": null,
      "outputs": [
        {
          "output_type": "stream",
          "name": "stdout",
          "text": [
            "0 AA\n",
            "1 BB\n",
            "2 CC\n"
          ]
        }
      ]
    },
    {
      "cell_type": "code",
      "metadata": {
        "id": "vYcMEGnGpJe5",
        "colab": {
          "base_uri": "https://localhost:8080/"
        },
        "outputId": "44ce26fe-1cd3-4af6-fa6b-6103e6616772"
      },
      "source": [
        "class Points(object):\n",
        "\n",
        "  def __init__(self,x,y):\n",
        "\n",
        "    self.x=x\n",
        "    self.y=y\n",
        "\n",
        "  def print_point(self):\n",
        "\n",
        "    print('x=',self.x,' y=',self.y)\n",
        "\n",
        "p2=Points(1,2)\n",
        "\n",
        "p2.x='A'\n",
        "\n",
        "p2.print_point()"
      ],
      "execution_count": null,
      "outputs": [
        {
          "output_type": "stream",
          "name": "stdout",
          "text": [
            "x= A  y= 2\n"
          ]
        }
      ]
    },
    {
      "cell_type": "code",
      "metadata": {
        "id": "PZPeVWZYpMVk",
        "colab": {
          "base_uri": "https://localhost:8080/"
        },
        "outputId": "aafb0555-b3fa-443e-fecc-030d9938328f"
      },
      "source": [
        "a=1\n",
        "\n",
        "def do(x):\n",
        "    a=100\n",
        "    return(x+a)\n",
        "\n",
        "print(do(1))"
      ],
      "execution_count": null,
      "outputs": [
        {
          "output_type": "stream",
          "name": "stdout",
          "text": [
            "101\n"
          ]
        }
      ]
    },
    {
      "cell_type": "code",
      "metadata": {
        "id": "nRMeqfFep3Y1",
        "colab": {
          "base_uri": "https://localhost:8080/"
        },
        "outputId": "2ef2f99b-ff76-4864-bdf7-6a2024d9b2ff"
      },
      "source": [
        "import numpy as np\n",
        "a=np.array([0,1])\n",
        "b=np.array([1,0])\n",
        "np.dot(a,b)"
      ],
      "execution_count": null,
      "outputs": [
        {
          "output_type": "execute_result",
          "data": {
            "text/plain": [
              "0"
            ]
          },
          "metadata": {},
          "execution_count": 27
        }
      ]
    },
    {
      "cell_type": "code",
      "metadata": {
        "id": "5S1bMnwdp81c",
        "colab": {
          "base_uri": "https://localhost:8080/"
        },
        "outputId": "ea6e2fef-5dd3-4c32-9ace-16d98567afa6"
      },
      "source": [
        "X=np.array([[1,0],[0,1]])\n",
        "Y=np.array([[0,1],[1,0]])\n",
        "Z=X+Y\n",
        "Z"
      ],
      "execution_count": null,
      "outputs": [
        {
          "output_type": "execute_result",
          "data": {
            "text/plain": [
              "array([[1, 1],\n",
              "       [1, 1]])"
            ]
          },
          "metadata": {},
          "execution_count": 28
        }
      ]
    },
    {
      "cell_type": "code",
      "metadata": {
        "id": "OdmWBVjSqCh_",
        "colab": {
          "base_uri": "https://localhost:8080/"
        },
        "outputId": "db7c8952-8ac0-41f1-d8bb-fa206aa19c12"
      },
      "source": [
        "X=np.array([[1,0,1],[2,2,2]])\n",
        "out=X[0,1:3]\n",
        "out"
      ],
      "execution_count": null,
      "outputs": [
        {
          "output_type": "execute_result",
          "data": {
            "text/plain": [
              "array([0, 1])"
            ]
          },
          "metadata": {},
          "execution_count": 29
        }
      ]
    },
    {
      "cell_type": "code",
      "metadata": {
        "id": "GzIN0EP6qE_6",
        "colab": {
          "base_uri": "https://localhost:8080/"
        },
        "outputId": "efdd257b-d0d9-489f-9950-85e9ef82734f"
      },
      "source": [
        "X=np.array([[1,0],[0,1]])\n",
        "Y=np.array([[2,1],[1,2]])\n",
        "Z=np.dot(X,Y)\n",
        "Z"
      ],
      "execution_count": null,
      "outputs": [
        {
          "output_type": "execute_result",
          "data": {
            "text/plain": [
              "array([[2, 1],\n",
              "       [1, 2]])"
            ]
          },
          "metadata": {},
          "execution_count": 30
        }
      ]
    },
    {
      "cell_type": "code",
      "metadata": {
        "id": "sIuZo42-qOtZ",
        "colab": {
          "base_uri": "https://localhost:8080/"
        },
        "outputId": "83c425e1-86d2-44bc-92c9-1378ed843419"
      },
      "source": [
        "with open('/content/Example1.txt',\"r\") as file1:\n",
        "\n",
        "    FileContent=file1.read()\n",
        "\n",
        "    print(FileContent)"
      ],
      "execution_count": null,
      "outputs": [
        {
          "output_type": "stream",
          "name": "stdout",
          "text": [
            "This is line 1\n",
            "\n",
            "This is line 2\n",
            "\n",
            "This is line 3\n"
          ]
        }
      ]
    },
    {
      "cell_type": "code",
      "metadata": {
        "id": "9blgbzO8qt3Z"
      },
      "source": [
        "with open('/content/Example1.txt',\"w\") as writefile:\n",
        "\n",
        "  writefile.write(\"This is line A\\n\")\n",
        "  writefile.write(\"This is line B\\n\")"
      ],
      "execution_count": null,
      "outputs": []
    },
    {
      "cell_type": "code",
      "metadata": {
        "id": "HOJ5WBMMqymw"
      },
      "source": [
        "with open('Example1.txt','r') as readfile:\n",
        "    with open('Example3.txt','w') as writefile:\n",
        "          for line in readfile:\n",
        "                writefile.write(line)\n"
      ],
      "execution_count": null,
      "outputs": []
    },
    {
      "cell_type": "code",
      "metadata": {
        "id": "sN1QwXMXt0OV",
        "colab": {
          "base_uri": "https://localhost:8080/"
        },
        "outputId": "59291239-2f1a-475b-e35a-0a5cd491a83c"
      },
      "source": [
        "var = '01234567'\n",
        "print(var[::2])"
      ],
      "execution_count": null,
      "outputs": [
        {
          "output_type": "stream",
          "name": "stdout",
          "text": [
            "0246\n"
          ]
        }
      ]
    },
    {
      "cell_type": "code",
      "metadata": {
        "id": "oo7rpIAct9O0",
        "colab": {
          "base_uri": "https://localhost:8080/"
        },
        "outputId": "773702cd-00ee-4185-e401-df78c2f02480"
      },
      "source": [
        "Name=\"ABCDE\"\n",
        "Name.find(\"B\")"
      ],
      "execution_count": null,
      "outputs": [
        {
          "output_type": "execute_result",
          "data": {
            "text/plain": [
              "1"
            ]
          },
          "metadata": {},
          "execution_count": 35
        }
      ]
    },
    {
      "cell_type": "code",
      "metadata": {
        "id": "7BapHHqYuChC",
        "colab": {
          "base_uri": "https://localhost:8080/"
        },
        "outputId": "40709ee5-4c3c-496d-ca1f-b073652aaf3d"
      },
      "source": [
        "int(3.99)"
      ],
      "execution_count": null,
      "outputs": [
        {
          "output_type": "execute_result",
          "data": {
            "text/plain": [
              "3"
            ]
          },
          "metadata": {},
          "execution_count": 36
        }
      ]
    },
    {
      "cell_type": "code",
      "metadata": {
        "id": "Yfl3f2dhuGot",
        "colab": {
          "base_uri": "https://localhost:8080/"
        },
        "outputId": "515f19a1-05be-4300-cd8a-d7bdc63e43bb"
      },
      "source": [
        "1//2"
      ],
      "execution_count": null,
      "outputs": [
        {
          "output_type": "execute_result",
          "data": {
            "text/plain": [
              "0"
            ]
          },
          "metadata": {},
          "execution_count": 37
        }
      ]
    },
    {
      "cell_type": "code",
      "metadata": {
        "id": "1tPuYXv4uJMU",
        "colab": {
          "base_uri": "https://localhost:8080/"
        },
        "outputId": "d826dc59-16d2-4016-f81c-19a68d499cda"
      },
      "source": [
        "1/2"
      ],
      "execution_count": null,
      "outputs": [
        {
          "output_type": "execute_result",
          "data": {
            "text/plain": [
              "0.5"
            ]
          },
          "metadata": {},
          "execution_count": 38
        }
      ]
    },
    {
      "cell_type": "code",
      "metadata": {
        "id": "o3zNodn7uKcq",
        "colab": {
          "base_uri": "https://localhost:8080/"
        },
        "outputId": "b3b722df-8ca4-46c9-dd8e-501fc4b80ad4"
      },
      "source": [
        "2//3\n"
      ],
      "execution_count": null,
      "outputs": [
        {
          "output_type": "execute_result",
          "data": {
            "text/plain": [
              "0"
            ]
          },
          "metadata": {},
          "execution_count": 39
        }
      ]
    },
    {
      "cell_type": "code",
      "metadata": {
        "id": "jfsDJ6SQueu0",
        "colab": {
          "base_uri": "https://localhost:8080/"
        },
        "outputId": "e78c5be2-7286-490d-cefe-f140a555c748"
      },
      "source": [
        "'1:2,3:4'.split(':')"
      ],
      "execution_count": null,
      "outputs": [
        {
          "output_type": "execute_result",
          "data": {
            "text/plain": [
              "['1', '2,3', '4']"
            ]
          },
          "metadata": {},
          "execution_count": 40
        }
      ]
    },
    {
      "cell_type": "code",
      "metadata": {
        "id": "oWNpuYfovYcC",
        "colab": {
          "base_uri": "https://localhost:8080/",
          "height": 37
        },
        "outputId": "92296bbe-713c-4451-f7bd-b58e3da4271a"
      },
      "source": [
        "def add(x):\n",
        "  return(x+x)\n",
        "add('1')"
      ],
      "execution_count": null,
      "outputs": [
        {
          "output_type": "execute_result",
          "data": {
            "text/plain": [
              "'11'"
            ],
            "application/vnd.google.colaboratory.intrinsic+json": {
              "type": "string"
            }
          },
          "metadata": {},
          "execution_count": 41
        }
      ]
    },
    {
      "cell_type": "code",
      "metadata": {
        "id": "DC9U8N8mv88f",
        "colab": {
          "base_uri": "https://localhost:8080/"
        },
        "outputId": "30b6cb45-35ef-40f0-b097-9d2a315522de"
      },
      "source": [
        "A=[8,5,2]\n",
        "for a in A:\n",
        "  print(12-a)"
      ],
      "execution_count": null,
      "outputs": [
        {
          "output_type": "stream",
          "name": "stdout",
          "text": [
            "4\n",
            "7\n",
            "10\n"
          ]
        }
      ]
    },
    {
      "cell_type": "code",
      "metadata": {
        "id": "nfsH591FwBrF",
        "colab": {
          "base_uri": "https://localhost:8080/"
        },
        "outputId": "fa5ae379-db19-487f-88bb-7c7fd7a164df"
      },
      "source": [
        "for i in range(1,5):\n",
        "  if (i!=1):\n",
        "    print(i)"
      ],
      "execution_count": null,
      "outputs": [
        {
          "output_type": "stream",
          "name": "stdout",
          "text": [
            "2\n",
            "3\n",
            "4\n"
          ]
        }
      ]
    },
    {
      "cell_type": "code",
      "metadata": {
        "id": "AqB2TdxhwFf9",
        "colab": {
          "base_uri": "https://localhost:8080/"
        },
        "outputId": "af0ee35a-19b4-4ee4-d080-2ec8756184e6"
      },
      "source": [
        "for i in range(1,5):\n",
        "  if (i!=2):\n",
        "    print(i)"
      ],
      "execution_count": null,
      "outputs": [
        {
          "output_type": "stream",
          "name": "stdout",
          "text": [
            "1\n",
            "3\n",
            "4\n"
          ]
        }
      ]
    },
    {
      "cell_type": "code",
      "metadata": {
        "id": "VxXpHITPwTzq",
        "colab": {
          "base_uri": "https://localhost:8080/"
        },
        "outputId": "5ba44a2e-9b2e-4e00-a5f6-c110cd5aab9e"
      },
      "source": [
        "a=np.array([0,1,0,1,0])\n",
        "b=np.array([1,0,1,0,1])\n",
        "a+b"
      ],
      "execution_count": null,
      "outputs": [
        {
          "output_type": "execute_result",
          "data": {
            "text/plain": [
              "array([1, 1, 1, 1, 1])"
            ]
          },
          "metadata": {},
          "execution_count": 45
        }
      ]
    },
    {
      "cell_type": "code",
      "metadata": {
        "id": "IYVq2SdIwXgc",
        "colab": {
          "base_uri": "https://localhost:8080/"
        },
        "outputId": "73840629-1c15-4664-bba9-dfbdd85c0529"
      },
      "source": [
        "a=np.array([1,1,1,1,1])\n",
        "a+10"
      ],
      "execution_count": null,
      "outputs": [
        {
          "output_type": "execute_result",
          "data": {
            "text/plain": [
              "array([11, 11, 11, 11, 11])"
            ]
          },
          "metadata": {},
          "execution_count": 46
        }
      ]
    },
    {
      "cell_type": "code",
      "metadata": {
        "id": "aQfwxWV9Yvq_",
        "colab": {
          "base_uri": "https://localhost:8080/"
        },
        "outputId": "965cba9c-32ac-43d1-de98-2168a6715b56"
      },
      "source": [
        "type(int(12.3))"
      ],
      "execution_count": null,
      "outputs": [
        {
          "output_type": "execute_result",
          "data": {
            "text/plain": [
              "int"
            ]
          },
          "metadata": {},
          "execution_count": 47
        }
      ]
    },
    {
      "cell_type": "code",
      "metadata": {
        "id": "5M3at9WfZBac",
        "colab": {
          "base_uri": "https://localhost:8080/"
        },
        "outputId": "032cbcaa-27e3-48de-f723-5e9e015419ff"
      },
      "source": [
        "int(False)"
      ],
      "execution_count": null,
      "outputs": [
        {
          "output_type": "execute_result",
          "data": {
            "text/plain": [
              "0"
            ]
          },
          "metadata": {},
          "execution_count": 48
        }
      ]
    },
    {
      "cell_type": "code",
      "metadata": {
        "id": "n1JimngcZE3H",
        "colab": {
          "base_uri": "https://localhost:8080/",
          "height": 37
        },
        "outputId": "a3be0b54-0dbc-4102-8380-c812561c717b"
      },
      "source": [
        "'1'+'2'"
      ],
      "execution_count": null,
      "outputs": [
        {
          "output_type": "execute_result",
          "data": {
            "text/plain": [
              "'12'"
            ],
            "application/vnd.google.colaboratory.intrinsic+json": {
              "type": "string"
            }
          },
          "metadata": {},
          "execution_count": 49
        }
      ]
    },
    {
      "cell_type": "code",
      "metadata": {
        "id": "cZJE7_-iZKKD",
        "colab": {
          "base_uri": "https://localhost:8080/",
          "height": 37
        },
        "outputId": "0a8f5d51-0c6e-4986-f9b7-71886176d91d"
      },
      "source": [
        "'hello'.upper()"
      ],
      "execution_count": null,
      "outputs": [
        {
          "output_type": "execute_result",
          "data": {
            "text/plain": [
              "'HELLO'"
            ],
            "application/vnd.google.colaboratory.intrinsic+json": {
              "type": "string"
            }
          },
          "metadata": {},
          "execution_count": 50
        }
      ]
    },
    {
      "cell_type": "code",
      "metadata": {
        "id": "LszHaE8mZPfO",
        "colab": {
          "base_uri": "https://localhost:8080/",
          "height": 37
        },
        "outputId": "9561fcee-1bc1-4e3a-a112-32f7c18502e7"
      },
      "source": [
        "str(1+1)"
      ],
      "execution_count": null,
      "outputs": [
        {
          "output_type": "execute_result",
          "data": {
            "text/plain": [
              "'2'"
            ],
            "application/vnd.google.colaboratory.intrinsic+json": {
              "type": "string"
            }
          },
          "metadata": {},
          "execution_count": 51
        }
      ]
    },
    {
      "cell_type": "code",
      "metadata": {
        "id": "oPAXdQuqZS09",
        "colab": {
          "base_uri": "https://localhost:8080/",
          "height": 37
        },
        "outputId": "1c634b07-b037-4391-ac6c-c91878028fdb"
      },
      "source": [
        "\"ABC\".replace(\"AB\", \"ab\")"
      ],
      "execution_count": null,
      "outputs": [
        {
          "output_type": "execute_result",
          "data": {
            "text/plain": [
              "'abC'"
            ],
            "application/vnd.google.colaboratory.intrinsic+json": {
              "type": "string"
            }
          },
          "metadata": {},
          "execution_count": 52
        }
      ]
    },
    {
      "cell_type": "code",
      "metadata": {
        "id": "pE3ew5QQZZH2",
        "colab": {
          "base_uri": "https://localhost:8080/"
        },
        "outputId": "f3e3f759-a658-4f53-f474-9129d5a6d714"
      },
      "source": [
        "x=1/1\n",
        "x"
      ],
      "execution_count": null,
      "outputs": [
        {
          "output_type": "execute_result",
          "data": {
            "text/plain": [
              "1.0"
            ]
          },
          "metadata": {},
          "execution_count": 53
        }
      ]
    },
    {
      "cell_type": "code",
      "metadata": {
        "id": "g9qC61PUZumB",
        "colab": {
          "base_uri": "https://localhost:8080/"
        },
        "outputId": "e1b97ff6-f933-4eb0-c054-b81270297a9c"
      },
      "source": [
        "A=((1),[2,3],[4])\n",
        "A[2]"
      ],
      "execution_count": null,
      "outputs": [
        {
          "output_type": "execute_result",
          "data": {
            "text/plain": [
              "[4]"
            ]
          },
          "metadata": {},
          "execution_count": 54
        }
      ]
    },
    {
      "cell_type": "code",
      "metadata": {
        "id": "9yXAsfxoZ0hL",
        "colab": {
          "base_uri": "https://localhost:8080/"
        },
        "outputId": "31965085-5fe1-4378-e1d6-432b7783e823"
      },
      "source": [
        "A=((11,12),[21,22])\n",
        "A[0][1]"
      ],
      "execution_count": null,
      "outputs": [
        {
          "output_type": "execute_result",
          "data": {
            "text/plain": [
              "12"
            ]
          },
          "metadata": {},
          "execution_count": 55
        }
      ]
    },
    {
      "cell_type": "code",
      "metadata": {
        "id": "MKdRTkI9Z_Bb",
        "colab": {
          "base_uri": "https://localhost:8080/"
        },
        "outputId": "b8ad4ed6-b629-4d16-fee8-7a810e10a7ee"
      },
      "source": [
        "A=[\"hard rock\",10,1.2]\n",
        "del(A[0])\n",
        "A"
      ],
      "execution_count": null,
      "outputs": [
        {
          "output_type": "execute_result",
          "data": {
            "text/plain": [
              "[10, 1.2]"
            ]
          },
          "metadata": {},
          "execution_count": 56
        }
      ]
    },
    {
      "cell_type": "code",
      "metadata": {
        "id": "3PhJVOF5aK4D"
      },
      "source": [
        "x = 3"
      ],
      "execution_count": null,
      "outputs": []
    },
    {
      "cell_type": "code",
      "metadata": {
        "id": "9saAgNj2aPot",
        "colab": {
          "base_uri": "https://localhost:8080/"
        },
        "outputId": "9382e2be-d68b-4472-df47-6a6d29808c30"
      },
      "source": [
        "len((\"disco\",10))"
      ],
      "execution_count": null,
      "outputs": [
        {
          "output_type": "execute_result",
          "data": {
            "text/plain": [
              "2"
            ]
          },
          "metadata": {},
          "execution_count": 58
        }
      ]
    },
    {
      "cell_type": "code",
      "metadata": {
        "id": "hFU6AoJfabJ6",
        "colab": {
          "base_uri": "https://localhost:8080/"
        },
        "outputId": "f726c773-6b88-4125-fc0e-5084c45224ea"
      },
      "source": [
        "V={'1','2'}\n",
        "V.add('3')\n",
        "V"
      ],
      "execution_count": null,
      "outputs": [
        {
          "output_type": "execute_result",
          "data": {
            "text/plain": [
              "{'1', '2', '3'}"
            ]
          },
          "metadata": {},
          "execution_count": 59
        }
      ]
    },
    {
      "cell_type": "code",
      "metadata": {
        "id": "JYDGXZEIamF7",
        "colab": {
          "base_uri": "https://localhost:8080/"
        },
        "outputId": "9f352db7-e8d2-4dfc-b3ce-f6cb0cafde42"
      },
      "source": [
        "'A' in {'A','B'}"
      ],
      "execution_count": null,
      "outputs": [
        {
          "output_type": "execute_result",
          "data": {
            "text/plain": [
              "True"
            ]
          },
          "metadata": {},
          "execution_count": 60
        }
      ]
    },
    {
      "cell_type": "code",
      "metadata": {
        "id": "d-vwKV_XbDuh",
        "colab": {
          "base_uri": "https://localhost:8080/"
        },
        "outputId": "c9463880-d8c2-4c29-ac55-383d70b74570"
      },
      "source": [
        "x=\"Go\"\n",
        "\n",
        "if(x==\"Go\"):\n",
        "\n",
        "  print('Go ')\n",
        "\n",
        "else:\n",
        "\n",
        "  print('Stop')\n",
        "\n",
        "print('Mike')"
      ],
      "execution_count": null,
      "outputs": [
        {
          "output_type": "stream",
          "name": "stdout",
          "text": [
            "Go \n",
            "Mike\n"
          ]
        }
      ]
    },
    {
      "cell_type": "code",
      "metadata": {
        "id": "OnWUirhvbLBD",
        "colab": {
          "base_uri": "https://localhost:8080/"
        },
        "outputId": "b9ce4cdc-6eff-4355-8560-eb669f1e3885"
      },
      "source": [
        "x=1\n",
        "x>-5"
      ],
      "execution_count": null,
      "outputs": [
        {
          "output_type": "execute_result",
          "data": {
            "text/plain": [
              "True"
            ]
          },
          "metadata": {},
          "execution_count": 62
        }
      ]
    },
    {
      "cell_type": "code",
      "metadata": {
        "id": "tOworpozbNpT",
        "colab": {
          "base_uri": "https://localhost:8080/"
        },
        "outputId": "389ef65d-1c56-46e7-d19e-1c6dfd6d098b"
      },
      "source": [
        "x=0\n",
        "while(x<2):\n",
        "    print(x)\n",
        "    x=x+1"
      ],
      "execution_count": null,
      "outputs": [
        {
          "output_type": "stream",
          "name": "stdout",
          "text": [
            "0\n",
            "1\n"
          ]
        }
      ]
    },
    {
      "cell_type": "code",
      "metadata": {
        "id": "3DLJehSwbTUb",
        "colab": {
          "base_uri": "https://localhost:8080/"
        },
        "outputId": "12850957-8f96-485d-9b44-8be3233c9c8e"
      },
      "source": [
        "class Points(object):\n",
        "  def __init__(self,x,y):\n",
        "\n",
        "    self.x=x\n",
        "    self.y=y\n",
        "\n",
        "  def print_point(self):\n",
        "\n",
        "    print('x=',self.x,' y=',self.y)\n",
        "\n",
        "p1=Points(1,2)\n",
        "p1.print_point()"
      ],
      "execution_count": null,
      "outputs": [
        {
          "output_type": "stream",
          "name": "stdout",
          "text": [
            "x= 1  y= 2\n"
          ]
        }
      ]
    },
    {
      "cell_type": "code",
      "metadata": {
        "id": "V1MCLe6XbW3b"
      },
      "source": [
        "for i,x in enumerate(['A','B','C']):\n",
        "    print(i+1,x)"
      ],
      "execution_count": null,
      "outputs": []
    },
    {
      "cell_type": "code",
      "metadata": {
        "id": "4G6fAvIlbcLo",
        "colab": {
          "base_uri": "https://localhost:8080/"
        },
        "outputId": "9047d116-f6d0-495f-fa05-6dbc83769014"
      },
      "source": [
        "class Points(object):\n",
        "  def __init__(self,x,y):\n",
        "\n",
        "    self.x=x\n",
        "    self.y=y\n",
        "\n",
        "  def print_point(self):\n",
        "\n",
        "    print('x=',self.x,' y=',self.y)\n",
        "\n",
        "p2=Points(1,2)\n",
        "\n",
        "p2.x=2\n",
        "\n",
        "p2.print_point()"
      ],
      "execution_count": null,
      "outputs": [
        {
          "output_type": "stream",
          "name": "stdout",
          "text": [
            "x= 2  y= 2\n"
          ]
        }
      ]
    },
    {
      "cell_type": "code",
      "metadata": {
        "id": "5nk0YxSIbfwI",
        "colab": {
          "base_uri": "https://localhost:8080/"
        },
        "outputId": "531cb9d7-8777-4384-bb6e-49706ac9b821"
      },
      "source": [
        "def step(x):\n",
        "    if x>0:\n",
        "        y=1\n",
        "    else:\n",
        "        y=0\n",
        "    return y\n",
        "step(1)"
      ],
      "execution_count": null,
      "outputs": [
        {
          "output_type": "execute_result",
          "data": {
            "text/plain": [
              "1"
            ]
          },
          "metadata": {},
          "execution_count": 66
        }
      ]
    },
    {
      "cell_type": "code",
      "metadata": {
        "id": "I1F2CqrqbyE0",
        "colab": {
          "base_uri": "https://localhost:8080/"
        },
        "outputId": "cafc13e2-ec57-43e5-8e15-9f98ab3db35f"
      },
      "source": [
        "a=1\n",
        "\n",
        "def do(x):\n",
        "    return(x+a)\n",
        "\n",
        "print(do(1))"
      ],
      "execution_count": null,
      "outputs": [
        {
          "output_type": "stream",
          "name": "stdout",
          "text": [
            "2\n"
          ]
        }
      ]
    },
    {
      "cell_type": "code",
      "metadata": {
        "id": "PZZQ-0eocYBA",
        "colab": {
          "base_uri": "https://localhost:8080/"
        },
        "outputId": "4755fef0-1ebb-4e80-f778-0d3f4e50aa96"
      },
      "source": [
        "import numpy as np\n",
        "a=np.array([-1,1])\n",
        "b=np.array([1,1])\n",
        "np.dot(a,b)"
      ],
      "execution_count": null,
      "outputs": [
        {
          "output_type": "execute_result",
          "data": {
            "text/plain": [
              "0"
            ]
          },
          "metadata": {},
          "execution_count": 68
        }
      ]
    },
    {
      "cell_type": "code",
      "metadata": {
        "id": "kvkXaOzucksO",
        "colab": {
          "base_uri": "https://localhost:8080/"
        },
        "outputId": "a921b5a5-bc2e-421c-a868-f968dcff84a5"
      },
      "source": [
        "X=np.array([[1,0,1],[2,2,2]])\n",
        "out=X[0,1:3]\n",
        "out"
      ],
      "execution_count": null,
      "outputs": [
        {
          "output_type": "execute_result",
          "data": {
            "text/plain": [
              "array([0, 1])"
            ]
          },
          "metadata": {},
          "execution_count": 69
        }
      ]
    },
    {
      "cell_type": "code",
      "metadata": {
        "id": "OOe0RoCbcp4d",
        "colab": {
          "base_uri": "https://localhost:8080/"
        },
        "outputId": "49fa78d6-11e4-4898-d9dc-6ad878402367"
      },
      "source": [
        "X=np.array([[1,0],[0,1]])\n",
        "Y=np.array([[2,1],[1,2]])\n",
        "Z=np.dot(X,Y)\n",
        "Z"
      ],
      "execution_count": null,
      "outputs": [
        {
          "output_type": "execute_result",
          "data": {
            "text/plain": [
              "array([[2, 1],\n",
              "       [1, 2]])"
            ]
          },
          "metadata": {},
          "execution_count": 70
        }
      ]
    },
    {
      "cell_type": "code",
      "metadata": {
        "id": "ddETZetse4O3",
        "colab": {
          "base_uri": "https://localhost:8080/"
        },
        "outputId": "d8b9358d-4c54-4c1a-849d-9fe8109dcf58"
      },
      "source": [
        "var = '01234567'\n",
        "print(var[::2])"
      ],
      "execution_count": null,
      "outputs": [
        {
          "output_type": "stream",
          "name": "stdout",
          "text": [
            "0246\n"
          ]
        }
      ]
    },
    {
      "cell_type": "code",
      "metadata": {
        "id": "3vNfmXiWfA7m",
        "colab": {
          "base_uri": "https://localhost:8080/"
        },
        "outputId": "9792f254-b472-44df-c7a3-5dacab049db6"
      },
      "source": [
        "Name=\"ABCDE\"\n",
        "Name.find(\"B\")"
      ],
      "execution_count": null,
      "outputs": [
        {
          "output_type": "execute_result",
          "data": {
            "text/plain": [
              "1"
            ]
          },
          "metadata": {},
          "execution_count": 72
        }
      ]
    },
    {
      "cell_type": "code",
      "metadata": {
        "id": "N7YEtgD2fTu-",
        "colab": {
          "base_uri": "https://localhost:8080/"
        },
        "outputId": "cdbee261-0366-439f-a610-e14fb7f8f451"
      },
      "source": [
        "float(3)"
      ],
      "execution_count": null,
      "outputs": [
        {
          "output_type": "execute_result",
          "data": {
            "text/plain": [
              "3.0"
            ]
          },
          "metadata": {},
          "execution_count": 73
        }
      ]
    },
    {
      "cell_type": "code",
      "metadata": {
        "id": "F4mEFOVqfZJC",
        "colab": {
          "base_uri": "https://localhost:8080/"
        },
        "outputId": "01641250-7122-44ba-c857-e0157ac6c861"
      },
      "source": [
        "1/2"
      ],
      "execution_count": null,
      "outputs": [
        {
          "output_type": "execute_result",
          "data": {
            "text/plain": [
              "0.5"
            ]
          },
          "metadata": {},
          "execution_count": 74
        }
      ]
    },
    {
      "cell_type": "code",
      "metadata": {
        "id": "G1jEEYsvf2AD",
        "colab": {
          "base_uri": "https://localhost:8080/"
        },
        "outputId": "f9349aee-6473-4d66-f93d-ba7881ffb58b"
      },
      "source": [
        "'1,2,3,4'.split(',')"
      ],
      "execution_count": null,
      "outputs": [
        {
          "output_type": "execute_result",
          "data": {
            "text/plain": [
              "['1', '2', '3', '4']"
            ]
          },
          "metadata": {},
          "execution_count": 75
        }
      ]
    },
    {
      "cell_type": "code",
      "metadata": {
        "id": "wkx8q1_gf8UV",
        "colab": {
          "base_uri": "https://localhost:8080/",
          "height": 178
        },
        "outputId": "34d0d54f-9349-43e1-f185-c70b74dcf606"
      },
      "source": [
        "'1,2,3,4'.reverse(',')"
      ],
      "execution_count": null,
      "outputs": [
        {
          "output_type": "error",
          "ename": "AttributeError",
          "evalue": "ignored",
          "traceback": [
            "\u001b[0;31m---------------------------------------------------------------------------\u001b[0m",
            "\u001b[0;31mAttributeError\u001b[0m                            Traceback (most recent call last)",
            "\u001b[0;32m<ipython-input-87-0342cfb878fe>\u001b[0m in \u001b[0;36m<module>\u001b[0;34m()\u001b[0m\n\u001b[0;32m----> 1\u001b[0;31m \u001b[0;34m'1,2,3,4'\u001b[0m\u001b[0;34m.\u001b[0m\u001b[0mreverse\u001b[0m\u001b[0;34m(\u001b[0m\u001b[0;34m','\u001b[0m\u001b[0;34m)\u001b[0m\u001b[0;34m\u001b[0m\u001b[0;34m\u001b[0m\u001b[0m\n\u001b[0m",
            "\u001b[0;31mAttributeError\u001b[0m: 'str' object has no attribute 'reverse'"
          ]
        }
      ]
    },
    {
      "cell_type": "code",
      "metadata": {
        "id": "P6tghghog-hg",
        "colab": {
          "base_uri": "https://localhost:8080/"
        },
        "outputId": "450d2fde-7246-4a88-bb6a-ffb32fa96ae6"
      },
      "source": [
        "def add(x):\n",
        "  return(x+x)\n",
        "add(1)"
      ],
      "execution_count": null,
      "outputs": [
        {
          "output_type": "execute_result",
          "data": {
            "text/plain": [
              "2"
            ]
          },
          "metadata": {},
          "execution_count": 77
        }
      ]
    },
    {
      "cell_type": "code",
      "metadata": {
        "id": "c6ej31VNhVww",
        "colab": {
          "base_uri": "https://localhost:8080/"
        },
        "outputId": "b6a4ef6c-91aa-4cf5-a118-45577c8db9ab"
      },
      "source": [
        "A=[8,5,2]\n",
        "for a in A:\n",
        "  print(12-a)"
      ],
      "execution_count": null,
      "outputs": [
        {
          "output_type": "stream",
          "name": "stdout",
          "text": [
            "4\n",
            "7\n",
            "10\n"
          ]
        }
      ]
    },
    {
      "cell_type": "code",
      "metadata": {
        "id": "1ukPjwcNhgkQ",
        "colab": {
          "base_uri": "https://localhost:8080/"
        },
        "outputId": "cca7f26f-6505-40fd-860e-8d193074c157"
      },
      "source": [
        "for i in range(1,5):\n",
        "   if (i==2):\n",
        "     print(i)"
      ],
      "execution_count": null,
      "outputs": [
        {
          "output_type": "stream",
          "name": "stdout",
          "text": [
            "2\n"
          ]
        }
      ]
    },
    {
      "cell_type": "code",
      "metadata": {
        "id": "Aq8xD66chlaJ",
        "colab": {
          "base_uri": "https://localhost:8080/"
        },
        "outputId": "d187a037-4f21-46a0-8310-3ed92e489bf1"
      },
      "source": [
        "for i in range(1,5):\n",
        "  if (i!=1):\n",
        "    print(i)"
      ],
      "execution_count": null,
      "outputs": [
        {
          "output_type": "stream",
          "name": "stdout",
          "text": [
            "2\n",
            "3\n",
            "4\n"
          ]
        }
      ]
    },
    {
      "cell_type": "code",
      "metadata": {
        "id": "s2H66qVRho25",
        "colab": {
          "base_uri": "https://localhost:8080/"
        },
        "outputId": "287b3f3e-cd8d-43a9-9779-1c38225e7914"
      },
      "source": [
        "for i in range(1,5):\n",
        "  if (i!=2):\n",
        "    print(i)"
      ],
      "execution_count": null,
      "outputs": [
        {
          "output_type": "stream",
          "name": "stdout",
          "text": [
            "1\n",
            "3\n",
            "4\n"
          ]
        }
      ]
    },
    {
      "cell_type": "code",
      "metadata": {
        "id": "t3R50OgOhy3a",
        "colab": {
          "base_uri": "https://localhost:8080/"
        },
        "outputId": "2da273f4-7ba4-4cbb-bb14-811ca75ee66e"
      },
      "source": [
        " a=np.array([0,1,0,1,0])\n",
        " b=np.array([1,0,1,0,1])\n",
        " a/b"
      ],
      "execution_count": null,
      "outputs": [
        {
          "output_type": "stream",
          "name": "stderr",
          "text": [
            "/usr/local/lib/python3.7/dist-packages/ipykernel_launcher.py:3: RuntimeWarning: divide by zero encountered in true_divide\n",
            "  This is separate from the ipykernel package so we can avoid doing imports until\n"
          ]
        },
        {
          "output_type": "execute_result",
          "data": {
            "text/plain": [
              "array([ 0., inf,  0., inf,  0.])"
            ]
          },
          "metadata": {},
          "execution_count": 82
        }
      ]
    },
    {
      "cell_type": "code",
      "metadata": {
        "id": "Y91JQxeRh_s4",
        "colab": {
          "base_uri": "https://localhost:8080/"
        },
        "outputId": "b35dceba-6ca1-4dd2-e1fd-9f798c98cf69"
      },
      "source": [
        "a=np.array([1,1,1,1,1])\n",
        "a+1"
      ],
      "execution_count": null,
      "outputs": [
        {
          "output_type": "execute_result",
          "data": {
            "text/plain": [
              "array([2, 2, 2, 2, 2])"
            ]
          },
          "metadata": {},
          "execution_count": 83
        }
      ]
    }
  ]
}